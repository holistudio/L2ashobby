{
 "cells": [
  {
   "cell_type": "markdown",
   "id": "e3e29e17",
   "metadata": {},
   "source": [
    "# Spiral classification\n",
    "\n",
    "Given the x-y coordinates of 2D points, classify them into one of three possible spiral branches that they belong to.\n",
    "\n",
    "Objectives:\n",
    " - Build and train a PyTorch MLP model from scratch to classify the points to a high accuracy\n",
    " - Visualize how the points are transformed akin to: https://youtu.be/EyKiYVwrdjE?si=JiAKShLumRxbFWXA&t=1002"
   ]
  },
  {
   "cell_type": "code",
   "execution_count": null,
   "id": "eb66742e",
   "metadata": {},
   "outputs": [],
   "source": [
    "import torch\n",
    "from torch import nn, optim\n",
    "\n",
    "from torch.utils.data import Dataset\n",
    "from torch.utils.data import DataLoader\n",
    "from torch.utils.data import random_split\n",
    "\n",
    "import torch.functional as F"
   ]
  },
  {
   "cell_type": "code",
   "execution_count": null,
   "id": "778cf475",
   "metadata": {},
   "outputs": [],
   "source": [
    "import fastbook\n",
    "from fastbook import *"
   ]
  },
  {
   "cell_type": "code",
   "execution_count": null,
   "id": "6c62aa94",
   "metadata": {},
   "outputs": [],
   "source": [
    "device = torch.device(\"cuda:0\" if torch.cuda.is_available() else \"cpu\")"
   ]
  },
  {
   "cell_type": "code",
   "execution_count": null,
   "id": "aeff9c4d",
   "metadata": {},
   "outputs": [],
   "source": [
    "device"
   ]
  },
  {
   "cell_type": "markdown",
   "id": "9735ad23",
   "metadata": {},
   "source": [
    "## Create data"
   ]
  },
  {
   "cell_type": "code",
   "execution_count": null,
   "id": "e77375d1",
   "metadata": {},
   "outputs": [],
   "source": [
    "seed = 12345\n",
    "torch.manual_seed(seed)\n",
    "N = 1000  # num_samples_per_class\n",
    "K = 3     # num_classes"
   ]
  },
  {
   "cell_type": "code",
   "execution_count": null,
   "id": "d718e7ee",
   "metadata": {},
   "outputs": [],
   "source": [
    "# Generate spirals\n",
    "\n",
    "t = torch.linspace(0, 1, N)\n",
    "a = 0.8 * t + 0.2  # amplitude 0.2 → 1.0\n",
    "X = list()\n",
    "y = list()\n",
    "for k in range(K):\n",
    "    θ = (2 * t + k) * 2 * torch.pi / K + 0.2 * torch.randn(N)\n",
    "    X.append(torch.stack((a * θ.sin(), a * θ.cos()), dim=1))\n",
    "    y.append(torch.zeros(N, dtype=torch.long).fill_(k))\n",
    "X = torch.cat(X)\n",
    "y = torch.cat(y)"
   ]
  },
  {
   "cell_type": "code",
   "execution_count": null,
   "id": "d20fe6c4",
   "metadata": {},
   "outputs": [],
   "source": [
    "# X.shape, y.shape"
   ]
  },
  {
   "cell_type": "code",
   "execution_count": null,
   "id": "d1d0378f",
   "metadata": {},
   "outputs": [],
   "source": [
    "# X[:5]"
   ]
  },
  {
   "cell_type": "code",
   "execution_count": null,
   "id": "90fc2367",
   "metadata": {},
   "outputs": [],
   "source": [
    "# y.unique()"
   ]
  },
  {
   "cell_type": "code",
   "execution_count": null,
   "id": "c0243b75",
   "metadata": {},
   "outputs": [],
   "source": [
    "plt.figure(figsize=(4.5,4))\n",
    "plt.scatter(X[:,0], X[:,1], c=y)\n",
    "plt.show()"
   ]
  },
  {
   "cell_type": "markdown",
   "id": "bc8ccb52",
   "metadata": {},
   "source": [
    "## Dataset and DataLoader Splits and Batches Data"
   ]
  },
  {
   "cell_type": "code",
   "execution_count": null,
   "id": "0c561c81",
   "metadata": {},
   "outputs": [],
   "source": [
    "class ToyDataset(Dataset):\n",
    "    def __init__(self, X, y, split=0.2):\n",
    "        self.features = X\n",
    "        self.labels = y\n",
    "    \n",
    "    def __getitem__(self, index):\n",
    "        x_item = self.features[index]\n",
    "        y_item = self.labels[index]\n",
    "        return x_item, y_item\n",
    "    \n",
    "    def __len__(self):\n",
    "        return self.labels.shape[0]"
   ]
  },
  {
   "cell_type": "code",
   "execution_count": null,
   "id": "b917c94c",
   "metadata": {},
   "outputs": [],
   "source": [
    "whole_ds = ToyDataset(X=X, y=y)\n",
    "# len(whole_ds)"
   ]
  },
  {
   "cell_type": "code",
   "execution_count": null,
   "id": "145bf936",
   "metadata": {},
   "outputs": [],
   "source": [
    "def split_dataset(ds, train_percent=0.8):\n",
    "    \"\"\"\n",
    "    ds - ToyDataset\n",
    "    \"\"\"\n",
    "\n",
    "    train_size = int(len(ds) * train_percent)\n",
    "    test_size = len(ds) - train_size\n",
    "\n",
    "    train_subset, test_subset = random_split(ds, [train_size, test_size])\n",
    "\n",
    "    X_train = ds.features[train_subset.indices]\n",
    "    y_train = ds.labels[train_subset.indices]\n",
    "\n",
    "    X_test = ds.features[test_subset.indices]\n",
    "    y_test = ds.labels[test_subset.indices]\n",
    "\n",
    "    train_ds = ToyDataset(X_train,y_train)\n",
    "    test_ds = ToyDataset(X_test,y_test)\n",
    "    \n",
    "    return train_ds, test_ds"
   ]
  },
  {
   "cell_type": "code",
   "execution_count": null,
   "id": "32577be1",
   "metadata": {},
   "outputs": [],
   "source": [
    "train_ds, test_ds = split_dataset(whole_ds)"
   ]
  },
  {
   "cell_type": "code",
   "execution_count": null,
   "id": "5354cff2",
   "metadata": {},
   "outputs": [],
   "source": [
    "# train_ds.features.shape"
   ]
  },
  {
   "cell_type": "code",
   "execution_count": null,
   "id": "3f9b6ae8",
   "metadata": {},
   "outputs": [],
   "source": [
    "# type(train_ds)"
   ]
  },
  {
   "cell_type": "code",
   "execution_count": null,
   "id": "6e9fe069",
   "metadata": {},
   "outputs": [],
   "source": [
    "# test_ds.features.shape"
   ]
  },
  {
   "cell_type": "code",
   "execution_count": null,
   "id": "0bff3d7c",
   "metadata": {},
   "outputs": [],
   "source": [
    "torch.manual_seed(1337)\n",
    "\n",
    "train_loader = DataLoader(\n",
    "    dataset=train_ds,\n",
    "    batch_size=32,\n",
    "    shuffle=True,\n",
    "    drop_last=True,\n",
    "    num_workers=0\n",
    ")\n",
    "\n",
    "test_loader = DataLoader(\n",
    "    dataset=test_ds,\n",
    "    batch_size=32,\n",
    "    shuffle=False,\n",
    "    drop_last=True,\n",
    "    num_workers=0\n",
    ")"
   ]
  },
  {
   "cell_type": "code",
   "execution_count": null,
   "id": "1cdcc238",
   "metadata": {},
   "outputs": [],
   "source": [
    "# for idx, (x, y) in enumerate(train_loader):\n",
    "#     print(f\"Batch {idx}: \", x.shape, y.shape)\n",
    "#     if idx > 0:\n",
    "#         break"
   ]
  },
  {
   "cell_type": "markdown",
   "id": "a22364cd",
   "metadata": {},
   "source": [
    "## Model"
   ]
  },
  {
   "cell_type": "code",
   "execution_count": null,
   "id": "8124d8e8",
   "metadata": {},
   "outputs": [],
   "source": [
    "# class MLP(nn.Module):\n",
    "#     def __init__(self, input_size, hidden_size, output_size, n_layers=3):\n",
    "#         super().__init__() # IMPORTANT\n",
    "#         # TODO: figure out later how to create a variable nn.Sequential\n",
    "#         # self.n_layers = n_layers\n",
    "#         self.h = hidden_size\n",
    "\n",
    "#         self.net = nn.Sequential(\n",
    "#             nn.Linear(input_size, hidden_size),\n",
    "#             nn.ReLU(),\n",
    "#             nn.Linear(hidden_size, hidden_size),\n",
    "#             nn.ReLU(),\n",
    "#             nn.Linear(hidden_size,output_size)\n",
    "#         )\n",
    "    \n",
    "#     def forward(self, xb):\n",
    "#         score = self.net(xb)\n",
    "#         return score\n"
   ]
  },
  {
   "cell_type": "code",
   "execution_count": null,
   "id": "27b77094",
   "metadata": {},
   "outputs": [],
   "source": [
    "class MLP(nn.Module):\n",
    "    def __init__(self, input_size, hidden_size, output_size, n_layers=3):\n",
    "        super().__init__() # IMPORTANT\n",
    "\n",
    "        self.n_layers = n_layers\n",
    "        self.h = hidden_size\n",
    "\n",
    "        layers = [nn.Linear(input_size, hidden_size)]\n",
    "        for _ in range(n_layers-2):\n",
    "            layers.append(nn.ReLU())\n",
    "            layers.append(nn.Linear(hidden_size, hidden_size))\n",
    "        layers.append(nn.ReLU())\n",
    "        layers.append(nn.Linear(hidden_size,output_size))\n",
    "\n",
    "        self.net = nn.Sequential(*layers)\n",
    "    \n",
    "    def forward(self, xb):\n",
    "        score = self.net(xb)\n",
    "        return score\n"
   ]
  },
  {
   "cell_type": "code",
   "execution_count": null,
   "id": "9448a932",
   "metadata": {},
   "outputs": [],
   "source": [
    "# initialize weights\n",
    "# model = MLP(input_size = 2, hidden_size = 16, output_size = 3)"
   ]
  },
  {
   "cell_type": "code",
   "execution_count": null,
   "id": "281e5535",
   "metadata": {},
   "outputs": [],
   "source": [
    "# X_batch, y_batch = next(iter(train_loader))\n",
    "# probs = model(X_batch[0])\n",
    "# probs"
   ]
  },
  {
   "cell_type": "code",
   "execution_count": null,
   "id": "5e481ad5",
   "metadata": {},
   "outputs": [],
   "source": [
    "# pred = torch.argmax(probs)\n",
    "# pred.item()"
   ]
  },
  {
   "cell_type": "code",
   "execution_count": null,
   "id": "9d9b5df4",
   "metadata": {},
   "outputs": [],
   "source": [
    "# target = y_batch[0]\n",
    "# target.item()"
   ]
  },
  {
   "cell_type": "code",
   "execution_count": null,
   "id": "5c8aa283",
   "metadata": {},
   "outputs": [],
   "source": [
    "# target == pred"
   ]
  },
  {
   "cell_type": "code",
   "execution_count": null,
   "id": "27f7bca3",
   "metadata": {},
   "outputs": [],
   "source": [
    "# probs = model(X_batch)\n",
    "# probs.shape"
   ]
  },
  {
   "cell_type": "code",
   "execution_count": null,
   "id": "f395fd5d",
   "metadata": {},
   "outputs": [],
   "source": [
    "# preds = torch.argmax(probs, dim=-1) # now we need to specify dim\n",
    "# preds.shape"
   ]
  },
  {
   "cell_type": "code",
   "execution_count": null,
   "id": "3c08776e",
   "metadata": {},
   "outputs": [],
   "source": [
    "# targets = y_batch\n",
    "# targets.shape"
   ]
  },
  {
   "cell_type": "code",
   "execution_count": null,
   "id": "3535c7c5",
   "metadata": {},
   "outputs": [],
   "source": [
    "# ((preds-targets)==0).float()"
   ]
  },
  {
   "cell_type": "code",
   "execution_count": null,
   "id": "3ee1fc6a",
   "metadata": {},
   "outputs": [],
   "source": [
    "# ((preds-targets)==0).float().mean().item()"
   ]
  },
  {
   "cell_type": "markdown",
   "id": "7639c3de",
   "metadata": {},
   "source": [
    "## Linear Model"
   ]
  },
  {
   "cell_type": "code",
   "execution_count": null,
   "id": "83019af4",
   "metadata": {},
   "outputs": [],
   "source": [
    "class SuperLinear(nn.Module):\n",
    "    def __init__(self, input_size, hidden_size, output_size):\n",
    "        super().__init__() # IMPORTANT\n",
    "        self.h = hidden_size\n",
    "\n",
    "        self.net = nn.Sequential(\n",
    "            nn.Linear(input_size, hidden_size),\n",
    "            nn.Linear(hidden_size, hidden_size),\n",
    "            nn.Linear(hidden_size,output_size)\n",
    "        )\n",
    "    \n",
    "    def forward(self, xb):\n",
    "        score = self.net(xb)\n",
    "        return score"
   ]
  },
  {
   "cell_type": "markdown",
   "id": "9206a21b",
   "metadata": {},
   "source": [
    "## Training Loop"
   ]
  },
  {
   "cell_type": "code",
   "execution_count": null,
   "id": "70185e4d",
   "metadata": {},
   "outputs": [],
   "source": [
    "# optim = torch.optim.AdamW(model.parameters(), lr=0.01)"
   ]
  },
  {
   "cell_type": "code",
   "execution_count": null,
   "id": "24426fc0",
   "metadata": {},
   "outputs": [],
   "source": [
    "def train_epoch(model, train_loader, optim):\n",
    "    # set model to train\n",
    "    model.train()\n",
    "\n",
    "    for idx, (xb, yb) in enumerate(train_loader):\n",
    "        # forward pass\n",
    "        score = model(xb)\n",
    "        \n",
    "        # cross-entropy loss \n",
    "        loss = F.cross_entropy(score, yb)\n",
    "\n",
    "        # accuracy\n",
    "        preds = torch.argmax(score, dim=-1)\n",
    "        acc = ((preds - yb) == 0).float().mean().item()\n",
    "\n",
    "        # clear old gradient from previous backprop\n",
    "        optim.zero_grad()\n",
    "\n",
    "        # compute new gradient and backprop\n",
    "        loss.backward()\n",
    "\n",
    "        # update parameter step\n",
    "        optim.step()\n",
    "\n",
    "    # set model back to eval in case \n",
    "    # other code wants to do that by default\n",
    "    model.eval()\n",
    "\n",
    "    return model, loss.item(), acc\n",
    "    "
   ]
  },
  {
   "cell_type": "code",
   "execution_count": null,
   "id": "fb3f0596",
   "metadata": {},
   "outputs": [],
   "source": [
    "# train_epoch(model=model, train_loader=train_loader, optim=optim)"
   ]
  },
  {
   "cell_type": "markdown",
   "id": "568f51d4",
   "metadata": {},
   "source": [
    "## Testing Loop"
   ]
  },
  {
   "cell_type": "code",
   "execution_count": null,
   "id": "240b028e",
   "metadata": {},
   "outputs": [],
   "source": [
    "def test_epoch(model, test_loader):\n",
    "    \n",
    "    # no gradient calculations\n",
    "    with torch.no_grad():\n",
    "        for idx, (xb, yb) in enumerate(test_loader):\n",
    "            # model output\n",
    "            score = model(xb)\n",
    "\n",
    "            # loss\n",
    "            loss = F.cross_entropy(score, yb)\n",
    "\n",
    "            # accuracy\n",
    "            preds = torch.argmax(score, dim=-1)\n",
    "            acc = ((preds - yb) == 0).float().mean().item()\n",
    "    \n",
    "    return loss.item(), acc"
   ]
  },
  {
   "cell_type": "code",
   "execution_count": null,
   "id": "ec433ab5",
   "metadata": {},
   "outputs": [],
   "source": [
    "# test_epoch(model=model, test_loader=test_loader)"
   ]
  },
  {
   "cell_type": "markdown",
   "id": "e097a3ae",
   "metadata": {},
   "source": [
    "## Training and Testing Loop"
   ]
  },
  {
   "cell_type": "code",
   "execution_count": null,
   "id": "220d6443",
   "metadata": {},
   "outputs": [],
   "source": [
    "def train_test(model, train_loader, test_loader, optim, epochs=100, verbose=False):\n",
    "    for e in range(epochs):\n",
    "        model, train_loss, train_acc = train_epoch(model, train_loader, optim)\n",
    "        test_loss, test_acc = test_epoch(model, test_loader)\n",
    "\n",
    "        if verbose:\n",
    "            if (e % 10 == 0) or (e == epochs-1):\n",
    "                print(f\"[Epoch {e}] Train/Test Loss: {train_loss:.2f} / {test_loss:.2f} | Train/Test Acc: {train_acc*100:.1f}% / {test_acc*100:.1f}%\")\n",
    "    return model"
   ]
  },
  {
   "cell_type": "code",
   "execution_count": null,
   "id": "a5ab652a",
   "metadata": {},
   "outputs": [],
   "source": [
    "# train_test(model, train_loader, test_loader, optim, verbose=True)"
   ]
  },
  {
   "cell_type": "markdown",
   "id": "55535a0c",
   "metadata": {},
   "source": [
    "## Hyperparameter tuning"
   ]
  },
  {
   "cell_type": "code",
   "execution_count": null,
   "id": "5715dad3",
   "metadata": {},
   "outputs": [],
   "source": [
    "def hyper_model(h, n_layers, lr, epochs=100, verbose=False):\n",
    "    torch.manual_seed(1337)\n",
    "\n",
    "    model = MLP(input_size = 2, hidden_size = h, n_layers=n_layers, output_size = 3)\n",
    "    optim = torch.optim.AdamW(model.parameters(), lr=lr)\n",
    "    \n",
    "    model = train_test(model, train_loader, test_loader, optim, epochs=epochs, verbose=verbose)\n",
    "    return model"
   ]
  },
  {
   "cell_type": "code",
   "execution_count": null,
   "id": "bee1a65a",
   "metadata": {},
   "outputs": [],
   "source": [
    "# model = hyper_model(h=10, n_layers=3, lr=0.1, verbose=True)"
   ]
  },
  {
   "cell_type": "code",
   "execution_count": null,
   "id": "b83b54dd",
   "metadata": {},
   "outputs": [],
   "source": [
    "# hyper_model(h=8, n_layers=3, lr=0.5, verbose=True)"
   ]
  },
  {
   "cell_type": "code",
   "execution_count": null,
   "id": "699e8b3a",
   "metadata": {},
   "outputs": [],
   "source": [
    "# hyper_model(h=8, n_layers=3, lr=0.1, verbose=True)"
   ]
  },
  {
   "cell_type": "code",
   "execution_count": null,
   "id": "07bead63",
   "metadata": {},
   "outputs": [],
   "source": [
    "# hyper_model(h=16, n_layers=3, lr=0.1, verbose=True)"
   ]
  },
  {
   "cell_type": "code",
   "execution_count": null,
   "id": "239b2db3",
   "metadata": {},
   "outputs": [],
   "source": [
    "# hyper_model(h=16, n_layers=4, lr=0.1, verbose=True)"
   ]
  },
  {
   "cell_type": "code",
   "execution_count": null,
   "id": "ba40b966",
   "metadata": {},
   "outputs": [],
   "source": [
    "# model = hyper_model(h=32, n_layers=3, lr=0.1, verbose=True)"
   ]
  },
  {
   "cell_type": "code",
   "execution_count": null,
   "id": "c5237650",
   "metadata": {},
   "outputs": [],
   "source": [
    "# TODO: train linear model as well"
   ]
  },
  {
   "cell_type": "markdown",
   "id": "1ad482b1",
   "metadata": {},
   "source": [
    "## Visualizing Model Performance"
   ]
  },
  {
   "cell_type": "code",
   "execution_count": null,
   "id": "63670687",
   "metadata": {},
   "outputs": [],
   "source": [
    "preds = torch.argmax(model(X), dim=-1)\n",
    "preds.shape"
   ]
  },
  {
   "cell_type": "code",
   "execution_count": null,
   "id": "d5f233c8",
   "metadata": {},
   "outputs": [],
   "source": [
    "# show all points in side-by-side subplots: model prediction vs ground truth \n",
    "fig, ax = plt.subplots(1,2, figsize=(10,4))\n",
    "\n",
    "ax[0].scatter(X[:,0], X[:,1], c=y)\n",
    "ax[1].scatter(X[:,0], X[:,1], c=preds)\n",
    "\n",
    "ax[0].set_title('Original Spiral Classes')\n",
    "ax[1].set_title('Network Predicted Spiral Classes')\n",
    "plt.show()"
   ]
  },
  {
   "cell_type": "code",
   "execution_count": null,
   "id": "cf2854e2",
   "metadata": {},
   "outputs": [],
   "source": [
    "((preds - y) == 0).float().mean().item()"
   ]
  },
  {
   "cell_type": "code",
   "execution_count": null,
   "id": "8b28d8a7",
   "metadata": {},
   "outputs": [],
   "source": [
    "# TODO: show all points as red or green for incorrect/correct classification vs ground truth "
   ]
  },
  {
   "cell_type": "code",
   "execution_count": null,
   "id": "1c785a35",
   "metadata": {},
   "outputs": [],
   "source": [
    "# TODO: show model decision boundary"
   ]
  },
  {
   "cell_type": "code",
   "execution_count": null,
   "id": "79099c35",
   "metadata": {},
   "outputs": [],
   "source": [
    "# TODO: show linear model results"
   ]
  },
  {
   "cell_type": "markdown",
   "id": "af8538df",
   "metadata": {},
   "source": [
    "## Visualize 2D Embeddings"
   ]
  },
  {
   "cell_type": "code",
   "execution_count": null,
   "id": "a2f1d750",
   "metadata": {},
   "outputs": [],
   "source": [
    "class MLPemb(nn.Module):\n",
    "    def __init__(self, input_size, hidden_size, output_size, n_layers=3):\n",
    "        super().__init__() # IMPORTANT\n",
    "        self.h = hidden_size\n",
    "\n",
    "        self.net = nn.Sequential(\n",
    "            nn.Linear(input_size, hidden_size),\n",
    "            nn.ReLU(),\n",
    "            nn.Linear(hidden_size,2),\n",
    "            nn.Linear(2, hidden_size),\n",
    "            nn.ReLU(),\n",
    "            nn.Linear(hidden_size,2),\n",
    "            nn.Linear(2,output_size)\n",
    "        )\n",
    "    \n",
    "    def forward(self, xb):\n",
    "        score = self.net(xb)\n",
    "        return score\n"
   ]
  },
  {
   "cell_type": "code",
   "execution_count": null,
   "id": "bb58330e",
   "metadata": {},
   "outputs": [],
   "source": [
    "torch.manual_seed(1337)\n",
    "\n",
    "model = MLPemb(input_size = 2, hidden_size = 10, output_size = 3)\n",
    "optim = torch.optim.AdamW(model.parameters(), lr=1e-3)\n",
    "\n",
    "model = train_test(model, train_loader, test_loader, optim, verbose=True, epochs=2_000)"
   ]
  },
  {
   "cell_type": "code",
   "execution_count": null,
   "id": "3f6aa121",
   "metadata": {},
   "outputs": [],
   "source": [
    "model"
   ]
  },
  {
   "cell_type": "code",
   "execution_count": null,
   "id": "a12491df",
   "metadata": {},
   "outputs": [],
   "source": [
    "# empty dictionary for storing outputs of any layer\n",
    "layer_outputs = {}\n",
    "\n",
    "def get_layer_outputs(name):\n",
    "    \n",
    "    def hook(model, input, output):\n",
    "        layer_outputs[name] = output\n",
    "    \n",
    "    return hook"
   ]
  },
  {
   "cell_type": "code",
   "execution_count": null,
   "id": "ee03ec29",
   "metadata": {},
   "outputs": [],
   "source": [
    "model.net[-2]"
   ]
  },
  {
   "cell_type": "code",
   "execution_count": null,
   "id": "4096a846",
   "metadata": {},
   "outputs": [],
   "source": [
    "# visualize the second to last layer output in 2D\n",
    "\n",
    "# identify the layer we want outputs from\n",
    "layer1 = model.net[2] # layer after first ReLU\n",
    "layer2 = model.net[-2] # second to last layer\n",
    "\n",
    "# register forward hook\n",
    "layer1.register_forward_hook(get_layer_outputs('first_emb'))\n",
    "layer2.register_forward_hook(get_layer_outputs('last_emb'))\n",
    "\n",
    "# forward pass through model\n",
    "# store outputs into layer_outputs dictionary\n",
    "with torch.no_grad():\n",
    "    scores = model(X)\n",
    "\n",
    "h1 = layer_outputs['first_emb']\n",
    "h2 = layer_outputs['last_emb']\n",
    "\n",
    "preds = torch.argmax(scores, dim=-1)\n",
    "\n",
    "# show all points in side-by-side subplots: model prediction vs ground truth \n",
    "fig, ax = plt.subplots(1,3, figsize=(15,4))\n",
    "\n",
    "ax[0].scatter(X[:,0], X[:,1], c=y)\n",
    "ax[1].scatter(X[:,0], X[:,1], c=preds)\n",
    "ax[2].scatter(h2[:,0], h2[:,1], c=y)\n",
    "\n",
    "ax[0].set_title('Original Spiral Classes')\n",
    "ax[1].set_title(\"Network's Predicted Spiral Classes\")\n",
    "ax[2].set_title(\"Network's Transformed 2D Points\")\n",
    "\n",
    "plt.show()\n"
   ]
  },
  {
   "cell_type": "code",
   "execution_count": null,
   "id": "b250579b",
   "metadata": {},
   "outputs": [],
   "source": [
    "# show all points in side-by-side subplots: model prediction vs ground truth \n",
    "fig, ax = plt.subplots(1,3, figsize=(15,4))\n",
    "\n",
    "ax[0].scatter(X[:,0], X[:,1], c=y)\n",
    "ax[1].scatter(h1[:,0], h1[:,1], c=y)\n",
    "ax[2].scatter(h2[:,0], h2[:,1], c=y)\n",
    "\n",
    "ax[0].set_title('Original Spiral Classes')\n",
    "ax[1].set_title(\"Network's Transformed LinReLU\")\n",
    "ax[2].set_title(\"Network's Transformed LinReLUx2\")\n",
    "\n",
    "plt.show()"
   ]
  },
  {
   "cell_type": "code",
   "execution_count": null,
   "id": "527b91d8",
   "metadata": {},
   "outputs": [],
   "source": [
    "((preds - y) == 0).float().mean().item()"
   ]
  },
  {
   "cell_type": "markdown",
   "id": "9830cf4c",
   "metadata": {},
   "source": [
    "## Visualize Hidden Layer Outputs\n",
    "\n",
    "(sorta)"
   ]
  },
  {
   "cell_type": "code",
   "execution_count": null,
   "id": "4de8e2ed",
   "metadata": {},
   "outputs": [],
   "source": [
    "model = hyper_model(h=10, n_layers=3, lr=0.001, epochs=2000, verbose=True)"
   ]
  },
  {
   "cell_type": "code",
   "execution_count": null,
   "id": "87f4df78",
   "metadata": {},
   "outputs": [],
   "source": [
    "model"
   ]
  },
  {
   "cell_type": "code",
   "execution_count": null,
   "id": "07924b40",
   "metadata": {},
   "outputs": [],
   "source": [
    "# empty dictionary for storing outputs of any layer\n",
    "layer_outputs = {}\n",
    "\n",
    "def get_layer_outputs(name):\n",
    "    \n",
    "    def hook(model, input, output):\n",
    "        layer_outputs[name] = output\n",
    "    \n",
    "    return hook"
   ]
  },
  {
   "cell_type": "code",
   "execution_count": null,
   "id": "1989e353",
   "metadata": {},
   "outputs": [],
   "source": [
    "# (x, y, s, r, g, b)\n",
    "# (x, y, r, g, b, a)\n",
    "# (x, y, r_in, r1, g1, b1, r_out, r2, g2, b2)"
   ]
  },
  {
   "cell_type": "code",
   "execution_count": null,
   "id": "7837a312",
   "metadata": {},
   "outputs": [],
   "source": [
    "relu1 = model.net[1] # first ReLU\n",
    "relu2 = model.net[3] # second ReLU\n",
    "\n",
    "# register forward hook\n",
    "relu1.register_forward_hook(get_layer_outputs('first_relu'))\n",
    "relu2.register_forward_hook(get_layer_outputs('next_relu'))\n",
    "\n",
    "# forward pass through model\n",
    "# store outputs into layer_outputs dictionary\n",
    "with torch.no_grad():\n",
    "    scores = model(X)\n",
    "\n",
    "\n",
    "h1 = layer_outputs['first_relu']\n",
    "h2 = layer_outputs['next_relu']\n",
    "h2.shape"
   ]
  },
  {
   "cell_type": "markdown",
   "id": "0127a413",
   "metadata": {},
   "source": [
    "### Experiments with Single Layer Output"
   ]
  },
  {
   "cell_type": "code",
   "execution_count": null,
   "id": "62b01e4d",
   "metadata": {},
   "outputs": [],
   "source": [
    "def minmax(x, dim=None, eps=1e-8):\n",
    "    if dim is None:\n",
    "        return (x - x.min()) / (x.max() - x.min()) + eps\n",
    "    x_min = x.min(dim=dim, keepdim=True).values\n",
    "    x_max = x.max(dim=dim, keepdim=True).values\n",
    "    return (x - x_min) / (x_max - x_min) + eps\n"
   ]
  },
  {
   "cell_type": "code",
   "execution_count": null,
   "id": "5f6cb3fb",
   "metadata": {},
   "outputs": [],
   "source": [
    "h1.min(), h1.max()"
   ]
  },
  {
   "cell_type": "code",
   "execution_count": null,
   "id": "8d2b7f2c",
   "metadata": {},
   "outputs": [],
   "source": [
    "h1_soft = torch.softmax(h1, dim=-1)\n",
    "h1_soft.min(), h1_soft.max()"
   ]
  },
  {
   "cell_type": "code",
   "execution_count": null,
   "id": "7834c67e",
   "metadata": {},
   "outputs": [],
   "source": [
    "h1_soft = torch.sigmoid(h1)\n",
    "h1_soft.min(), h1_soft.max()"
   ]
  },
  {
   "cell_type": "code",
   "execution_count": null,
   "id": "5a3ed48f",
   "metadata": {},
   "outputs": [],
   "source": [
    "h1_soft = minmax(h1, dim=-1, eps=1e-8)\n",
    "h1_soft.min(), h1_soft.max()"
   ]
  },
  {
   "cell_type": "code",
   "execution_count": null,
   "id": "96bd4aaa",
   "metadata": {},
   "outputs": [],
   "source": [
    "size_scale = 100"
   ]
  },
  {
   "cell_type": "code",
   "execution_count": null,
   "id": "db8e3399",
   "metadata": {},
   "outputs": [],
   "source": [
    "# h1_soft[:, 2].shape"
   ]
  },
  {
   "cell_type": "code",
   "execution_count": null,
   "id": "8374973a",
   "metadata": {},
   "outputs": [],
   "source": [
    "# torch.stack((h1_soft[:, 2],h1_soft[:, 3]), dim=1).shape"
   ]
  },
  {
   "cell_type": "code",
   "execution_count": null,
   "id": "06b0c6d8",
   "metadata": {},
   "outputs": [],
   "source": [
    "features = ['x', 'y', 'C_in_R', 'C_in_G', 'C_in_B', 's_in', 'C_out_R', 'C_out_G', 'C_out_B', 's_out']\n",
    "idx = torch.randperm(10)[:10]\n",
    "feature_map = [features[i] for i in list(idx)]\n",
    "\n",
    "# Split into separate arrays\n",
    "x = h1_soft[:, idx[0]]\n",
    "y = h1_soft[:, idx[1]]\n",
    "\n",
    "colors_in_r = h1_soft[:, idx[2]]  \n",
    "colors_in_g = h1_soft[:, idx[3]]  \n",
    "colors_in_b = h1_soft[:, idx[4]]  \n",
    "colors_in = torch.stack((colors_in_r,colors_in_g,colors_in_b), dim=1)\n",
    "\n",
    "sizes_in = h1_soft[:, idx[5]] * size_scale\n",
    "\n",
    "colors_out_r = h1_soft[:, idx[6]]  \n",
    "colors_out_g = h1_soft[:, idx[7]]  \n",
    "colors_out_b = h1_soft[:, idx[8]]  \n",
    "colors_out = torch.stack((colors_out_r,colors_out_g,colors_out_b), dim=1)\n",
    "\n",
    "sizes_out = h1_soft[:, idx[9]] * size_scale\n",
    "\n",
    "idx, feature_map"
   ]
  },
  {
   "cell_type": "code",
   "execution_count": null,
   "id": "cf486b3f",
   "metadata": {},
   "outputs": [],
   "source": [
    "fig, ax = plt.subplots(figsize=(6, 6))\n",
    "ax.scatter(\n",
    "    x,\n",
    "    y,\n",
    "    s=sizes_out,\n",
    "    c=colors_out\n",
    ")\n",
    "ax.scatter(\n",
    "    x,\n",
    "    y,\n",
    "    s=sizes_in,\n",
    "    c=colors_in\n",
    ")\n",
    "\n",
    "\n",
    "# ax.set_aspect('equal')\n",
    "plt.show()"
   ]
  },
  {
   "cell_type": "markdown",
   "id": "5990f310",
   "metadata": {},
   "source": [
    "### Visualize Both Layer Outputs"
   ]
  },
  {
   "cell_type": "code",
   "execution_count": null,
   "id": "a25d3599",
   "metadata": {},
   "outputs": [],
   "source": [
    "size_scale = 100_000"
   ]
  },
  {
   "cell_type": "code",
   "execution_count": null,
   "id": "049d2ee6",
   "metadata": {},
   "outputs": [],
   "source": [
    "def hidden_to_dot_features(h_out, norm=None, idx=None):\n",
    "    \n",
    "    def minmax(x, dim=None, eps=1e-8):\n",
    "        if dim is None:\n",
    "            return (x - x.min()) / (x.max() - x.min()) + eps\n",
    "        x_min = x.min(dim=dim, keepdim=True).values\n",
    "        x_max = x.max(dim=dim, keepdim=True).values\n",
    "        return (x - x_min) / (x_max - x_min) + eps\n",
    "    \n",
    "    # decide on normalization scheme\n",
    "    if norm == None:\n",
    "        h_out = h_out\n",
    "    elif norm == 'softmax':\n",
    "        h_out = torch.softmax(h_out, dim=-1)\n",
    "    elif norm == 'sigmoid':\n",
    "        h_out = torch.sigmoid(h_out)\n",
    "    elif norm == 'minmax':\n",
    "        h_out = minmax(h_out, dim=-1)\n",
    "    else:\n",
    "        return ValueError(\"Invalid norm scheme, choose from ['softmax', 'sigmoid', 'minmax']\")\n",
    "\n",
    "    features = ['x', 'y', 'C_in_R', 'C_in_G', 'C_in_B', 's_in', 'C_out_R', 'C_out_G', 'C_out_B', 's_out']\n",
    "    \n",
    "    if idx == None:\n",
    "        idx = torch.randperm(len(features))[:len(features)]\n",
    "    \n",
    "    feature_map = [features[i] for i in list(idx)]\n",
    "    print(idx, feature_map)\n",
    "\n",
    "    # Split into separate arrays\n",
    "    x = h_out[:, idx[0]]\n",
    "    y = h_out[:, idx[1]]\n",
    "\n",
    "    colors_in_r = h_out[:, idx[2]]  \n",
    "    colors_in_g = h_out[:, idx[3]]  \n",
    "    colors_in_b = h_out[:, idx[4]]  \n",
    "    colors_in = torch.stack((colors_in_r,colors_in_g,colors_in_b), dim=1)\n",
    "    \n",
    "    sizes_in = h_out[:, idx[5]] * size_scale\n",
    "\n",
    "\n",
    "    colors_out_r = h_out[:, idx[6]]  \n",
    "    colors_out_g = h_out[:, idx[7]]  \n",
    "    colors_out_b = h_out[:, idx[8]]  \n",
    "    colors_out = torch.stack((colors_out_r,colors_out_g,colors_out_b), dim=1)\n",
    "    \n",
    "    sizes_out = h_out[:, idx[9]] * size_scale\n",
    "\n",
    "    if norm == None:\n",
    "        colors_in = minmax(colors_in, dim=-1)\n",
    "        colors_out = minmax(colors_out, dim=-1)\n",
    "        sizes_in = minmax(sizes_in, dim=-1)\n",
    "        sizes_out = minmax(sizes_out, dim=-1)\n",
    "\n",
    "    return (x, y, colors_in, sizes_in, colors_out, sizes_out), idx"
   ]
  },
  {
   "cell_type": "code",
   "execution_count": null,
   "id": "2c8d2744",
   "metadata": {},
   "outputs": [],
   "source": [
    "def plot_hidden(dot_features):\n",
    "    x, y, colors_in, sizes_in, colors_out, sizes_out = dot_features\n",
    "\n",
    "    plt.figure(figsize=(6, 6))\n",
    "    plt.scatter(\n",
    "        x,\n",
    "        y,\n",
    "        s=sizes_out,\n",
    "        c=colors_out\n",
    "    )\n",
    "    plt.scatter(\n",
    "        x,\n",
    "        y,\n",
    "        s=sizes_in,\n",
    "        c=colors_in\n",
    "    )\n",
    "\n",
    "    plt.show()\n"
   ]
  },
  {
   "cell_type": "code",
   "execution_count": null,
   "id": "87c0728f",
   "metadata": {},
   "outputs": [],
   "source": [
    "dot_features, idx = hidden_to_dot_features(h_out=h1)\n",
    "plot_hidden(dot_features)\n",
    "dot_features, idx = hidden_to_dot_features(h_out=h2, idx=idx)\n",
    "plot_hidden(dot_features)"
   ]
  },
  {
   "cell_type": "code",
   "execution_count": null,
   "id": "70fdcb8e",
   "metadata": {},
   "outputs": [],
   "source": [
    "dot_features, idx = hidden_to_dot_features(h_out=h1, idx=[2, 8, 0, 1, 3, 4, 5, 6, 7, 9])\n",
    "plot_hidden(dot_features)\n",
    "dot_features, idx = hidden_to_dot_features(h_out=h2, idx=idx)\n",
    "plot_hidden(dot_features)"
   ]
  },
  {
   "cell_type": "code",
   "execution_count": null,
   "id": "67982ff4",
   "metadata": {},
   "outputs": [],
   "source": [
    "dot_features, idx = hidden_to_dot_features(h_out=h1, norm='minmax', idx=[3, 6, 7, 9, 1, 5, 2, 4, 8, 0])\n",
    "plot_hidden(dot_features)"
   ]
  },
  {
   "cell_type": "code",
   "execution_count": null,
   "id": "d8963fba",
   "metadata": {},
   "outputs": [],
   "source": [
    "dot_features, idx = hidden_to_dot_features(h_out=h2, norm='minmax', idx=[3, 6, 7, 9, 1, 5, 2, 4, 8, 0])\n",
    "plot_hidden(dot_features)"
   ]
  },
  {
   "cell_type": "code",
   "execution_count": null,
   "id": "7d50f0df",
   "metadata": {},
   "outputs": [],
   "source": [
    "dot_features, idx = hidden_to_dot_features(h_out=h1, norm='sigmoid', idx=[3, 6, 7, 9, 1, 5, 2, 4, 8, 0])\n",
    "plot_hidden(dot_features)"
   ]
  },
  {
   "cell_type": "code",
   "execution_count": null,
   "id": "28f52f4d",
   "metadata": {},
   "outputs": [],
   "source": [
    "dot_features, idx = hidden_to_dot_features(h_out=h2, norm='sigmoid', idx=[3, 6, 7, 9, 1, 5, 2, 4, 8, 0])\n",
    "plot_hidden(dot_features)"
   ]
  },
  {
   "cell_type": "code",
   "execution_count": null,
   "id": "819c2cd9",
   "metadata": {},
   "outputs": [],
   "source": [
    "dot_features, idx = hidden_to_dot_features(h_out=h1, norm='minmax')\n",
    "plot_hidden(dot_features)"
   ]
  },
  {
   "cell_type": "code",
   "execution_count": null,
   "id": "8fce3953",
   "metadata": {},
   "outputs": [],
   "source": [
    "dot_features, idx = hidden_to_dot_features(h_out=h2, norm='minmax',idx=idx)\n",
    "plot_hidden(dot_features)"
   ]
  },
  {
   "cell_type": "code",
   "execution_count": null,
   "id": "1ff5de0b",
   "metadata": {},
   "outputs": [],
   "source": [
    "dot_features, idx = hidden_to_dot_features(h_out=h1, norm='sigmoid')\n",
    "plot_hidden(dot_features)"
   ]
  },
  {
   "cell_type": "code",
   "execution_count": null,
   "id": "a3fee2cd",
   "metadata": {},
   "outputs": [],
   "source": [
    "dot_features, idx = hidden_to_dot_features(h_out=h2, norm='sigmoid',idx=idx)\n",
    "plot_hidden(dot_features)"
   ]
  },
  {
   "cell_type": "code",
   "execution_count": null,
   "id": "f4d1c4d8",
   "metadata": {},
   "outputs": [],
   "source": [
    "dot_features, idx = hidden_to_dot_features(h_out=h1, norm='minmax',idx=idx)\n",
    "plot_hidden(dot_features)"
   ]
  },
  {
   "cell_type": "code",
   "execution_count": null,
   "id": "8deda7fc",
   "metadata": {},
   "outputs": [],
   "source": [
    "dot_features, idx = hidden_to_dot_features(h_out=h2, norm='minmax',idx=idx)\n",
    "plot_hidden(dot_features)"
   ]
  },
  {
   "cell_type": "markdown",
   "id": "6b8a7c56",
   "metadata": {},
   "source": [
    "### Is `MLP` the same as `MLPuw` model?"
   ]
  },
  {
   "cell_type": "code",
   "execution_count": null,
   "id": "2a7620c6",
   "metadata": {},
   "outputs": [],
   "source": [
    "class MLPuw(nn.Module):\n",
    "    def __init__(self, input_size, hidden_size, output_size):\n",
    "        super().__init__() # IMPORTANT\n",
    "\n",
    "        self.h = hidden_size\n",
    "\n",
    "        self.linear1 = nn.Linear(input_size, hidden_size)\n",
    "        self.nonlin1 = nn.ReLU()\n",
    "        self.linear2 = nn.Linear(hidden_size, hidden_size)\n",
    "        self.nonlin2 = nn.ReLU()\n",
    "        self.linear3 = nn.Linear(hidden_size, output_size)\n",
    "\n",
    "    \n",
    "    def forward(self, xb):\n",
    "        xb = self.linear1(xb)\n",
    "        xb = self.nonlin1(xb)\n",
    "        xb = self.linear2(xb)\n",
    "        xb = self.nonlin2(xb)\n",
    "        xb = self.linear3(xb)\n",
    "        output = xb.sigmoid()\n",
    "        return output\n"
   ]
  },
  {
   "cell_type": "code",
   "execution_count": null,
   "id": "12022b9a",
   "metadata": {},
   "outputs": [],
   "source": [
    "torch.manual_seed(1337)\n",
    "\n",
    "model = MLP(input_size = 2, hidden_size = 6, output_size = 3)\n",
    "torch.manual_seed(1337)\n",
    "optim = torch.optim.AdamW(model.parameters(), lr=0.1)\n",
    "torch.manual_seed(1337)\n",
    "model = train_test(model, train_loader, test_loader, optim, verbose=True)"
   ]
  },
  {
   "cell_type": "code",
   "execution_count": null,
   "id": "9ae63e3d",
   "metadata": {},
   "outputs": [],
   "source": [
    "model"
   ]
  },
  {
   "cell_type": "code",
   "execution_count": null,
   "id": "d56b7bd9",
   "metadata": {},
   "outputs": [],
   "source": [
    "torch.manual_seed(1337)\n",
    "\n",
    "model = MLPuw(input_size = 2, hidden_size = 6, output_size = 3)\n",
    "torch.manual_seed(1337)\n",
    "optim = torch.optim.AdamW(model.parameters(), lr=0.1)\n",
    "torch.manual_seed(1337)\n",
    "\n",
    "model = train_test(model, train_loader, test_loader, optim, verbose=True)"
   ]
  },
  {
   "cell_type": "code",
   "execution_count": null,
   "id": "c3805904",
   "metadata": {},
   "outputs": [],
   "source": [
    "model"
   ]
  }
 ],
 "metadata": {
  "kernelspec": {
   "display_name": "learn-ml",
   "language": "python",
   "name": "python3"
  },
  "language_info": {
   "codemirror_mode": {
    "name": "ipython",
    "version": 3
   },
   "file_extension": ".py",
   "mimetype": "text/x-python",
   "name": "python",
   "nbconvert_exporter": "python",
   "pygments_lexer": "ipython3",
   "version": "3.13.7"
  }
 },
 "nbformat": 4,
 "nbformat_minor": 5
}
