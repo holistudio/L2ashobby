{
 "cells": [
  {
   "cell_type": "markdown",
   "id": "e3e29e17",
   "metadata": {},
   "source": [
    "# Spiral classification\n",
    "\n",
    "Given the x-y coordinates of 2D points, classify them into one of three possible spiral branches that they belong to.\n",
    "\n",
    "Objectives:\n",
    " - Build and train a PyTorch MLP model from scratch to classify the points to a high accuracy\n",
    " - Visualize how the points are transformed akin to: https://youtu.be/EyKiYVwrdjE?si=JiAKShLumRxbFWXA&t=1002"
   ]
  },
  {
   "cell_type": "code",
   "execution_count": null,
   "id": "eb66742e",
   "metadata": {},
   "outputs": [],
   "source": [
    "import torch\n",
    "from torch import nn, optim\n",
    "\n",
    "from torch.utils.data import Dataset\n",
    "from torch.utils.data import DataLoader\n",
    "from torch.utils.data import random_split\n",
    "\n",
    "import torch.functional as F"
   ]
  },
  {
   "cell_type": "code",
   "execution_count": null,
   "id": "778cf475",
   "metadata": {},
   "outputs": [],
   "source": [
    "import fastbook\n",
    "from fastbook import *"
   ]
  },
  {
   "cell_type": "code",
   "execution_count": null,
   "id": "6c62aa94",
   "metadata": {},
   "outputs": [],
   "source": [
    "device = torch.device(\"cuda:0\" if torch.cuda.is_available() else \"cpu\")"
   ]
  },
  {
   "cell_type": "code",
   "execution_count": null,
   "id": "aeff9c4d",
   "metadata": {},
   "outputs": [],
   "source": [
    "device"
   ]
  },
  {
   "cell_type": "markdown",
   "id": "9735ad23",
   "metadata": {},
   "source": [
    "## Create data"
   ]
  },
  {
   "cell_type": "code",
   "execution_count": null,
   "id": "e77375d1",
   "metadata": {},
   "outputs": [],
   "source": [
    "seed = 12345\n",
    "torch.manual_seed(seed)\n",
    "N = 1000  # num_samples_per_class\n",
    "K = 3     # num_classes"
   ]
  },
  {
   "cell_type": "code",
   "execution_count": null,
   "id": "d718e7ee",
   "metadata": {},
   "outputs": [],
   "source": [
    "# Generate spirals\n",
    "\n",
    "t = torch.linspace(0, 1, N)\n",
    "a = 0.8 * t + 0.2  # amplitude 0.2 → 1.0\n",
    "X = list()\n",
    "y = list()\n",
    "for k in range(K):\n",
    "    θ = (2 * t + k) * 2 * torch.pi / K + 0.2 * torch.randn(N)\n",
    "    X.append(torch.stack((a * θ.sin(), a * θ.cos()), dim=1))\n",
    "    y.append(torch.zeros(N, dtype=torch.long).fill_(k))\n",
    "X = torch.cat(X)\n",
    "y = torch.cat(y)"
   ]
  },
  {
   "cell_type": "code",
   "execution_count": null,
   "id": "d20fe6c4",
   "metadata": {},
   "outputs": [],
   "source": [
    "X.shape, y.shape"
   ]
  },
  {
   "cell_type": "code",
   "execution_count": null,
   "id": "d1d0378f",
   "metadata": {},
   "outputs": [],
   "source": [
    "X[:5]"
   ]
  },
  {
   "cell_type": "code",
   "execution_count": null,
   "id": "90fc2367",
   "metadata": {},
   "outputs": [],
   "source": [
    "y.unique()"
   ]
  },
  {
   "cell_type": "code",
   "execution_count": null,
   "id": "c0243b75",
   "metadata": {},
   "outputs": [],
   "source": [
    "plt.scatter(X[:,0], X[:,1], c=y)\n",
    "plt.show()"
   ]
  },
  {
   "cell_type": "markdown",
   "id": "bc8ccb52",
   "metadata": {},
   "source": [
    "## Dataset and DataLoader Splits and Batches Data"
   ]
  },
  {
   "cell_type": "code",
   "execution_count": null,
   "id": "0c561c81",
   "metadata": {},
   "outputs": [],
   "source": [
    "class ToyDataset(Dataset):\n",
    "    def __init__(self, X, y, split=0.2):\n",
    "        self.features = X\n",
    "        self.labels = y\n",
    "    \n",
    "    def __getitem__(self, index):\n",
    "        x_item = self.features[index]\n",
    "        y_item = self.labels[index]\n",
    "        return x_item, y_item\n",
    "    \n",
    "    def __len__(self):\n",
    "        return self.labels.shape[0]"
   ]
  },
  {
   "cell_type": "code",
   "execution_count": null,
   "id": "b917c94c",
   "metadata": {},
   "outputs": [],
   "source": [
    "whole_ds = ToyDataset(X=X, y=y)\n",
    "len(whole_ds)"
   ]
  },
  {
   "cell_type": "code",
   "execution_count": null,
   "id": "145bf936",
   "metadata": {},
   "outputs": [],
   "source": [
    "def split_dataset(ds, train_percent=0.8):\n",
    "    \"\"\"\n",
    "    ds - ToyDataset\n",
    "    \"\"\"\n",
    "\n",
    "    train_size = int(len(ds) * train_percent)\n",
    "    test_size = len(ds) - train_size\n",
    "\n",
    "    train_subset, test_subset = random_split(ds, [train_size, test_size])\n",
    "\n",
    "    X_train = ds.features[train_subset.indices]\n",
    "    y_train = ds.labels[train_subset.indices]\n",
    "\n",
    "    X_test = ds.features[test_subset.indices]\n",
    "    y_test = ds.labels[test_subset.indices]\n",
    "\n",
    "    train_ds = ToyDataset(X_train,y_train)\n",
    "    test_ds = ToyDataset(X_test,y_test)\n",
    "    \n",
    "    return train_ds, test_ds"
   ]
  },
  {
   "cell_type": "code",
   "execution_count": null,
   "id": "32577be1",
   "metadata": {},
   "outputs": [],
   "source": [
    "train_ds, test_ds = split_dataset(whole_ds)"
   ]
  },
  {
   "cell_type": "code",
   "execution_count": null,
   "id": "5354cff2",
   "metadata": {},
   "outputs": [],
   "source": [
    "train_ds.features.shape"
   ]
  },
  {
   "cell_type": "code",
   "execution_count": null,
   "id": "3f9b6ae8",
   "metadata": {},
   "outputs": [],
   "source": [
    "type(train_ds)"
   ]
  },
  {
   "cell_type": "code",
   "execution_count": null,
   "id": "6e9fe069",
   "metadata": {},
   "outputs": [],
   "source": [
    "test_ds.features.shape"
   ]
  },
  {
   "cell_type": "code",
   "execution_count": null,
   "id": "0bff3d7c",
   "metadata": {},
   "outputs": [],
   "source": [
    "torch.manual_seed(1337)\n",
    "\n",
    "train_loader = DataLoader(\n",
    "    dataset=train_ds,\n",
    "    batch_size=32,\n",
    "    shuffle=True,\n",
    "    drop_last=True,\n",
    "    num_workers=0\n",
    ")\n",
    "\n",
    "test_loader = DataLoader(\n",
    "    dataset=test_ds,\n",
    "    batch_size=32,\n",
    "    shuffle=False,\n",
    "    drop_last=True,\n",
    "    num_workers=0\n",
    ")"
   ]
  },
  {
   "cell_type": "code",
   "execution_count": null,
   "id": "1cdcc238",
   "metadata": {},
   "outputs": [],
   "source": [
    "for idx, (x, y) in enumerate(train_loader):\n",
    "    print(f\"Batch {idx}: \", x.shape, y.shape)\n",
    "    if idx > 0:\n",
    "        break"
   ]
  },
  {
   "cell_type": "markdown",
   "id": "a22364cd",
   "metadata": {},
   "source": [
    "## Model"
   ]
  },
  {
   "cell_type": "code",
   "execution_count": null,
   "id": "8124d8e8",
   "metadata": {},
   "outputs": [],
   "source": [
    "class MLP(nn.Module):\n",
    "    def __init__(self, input_size, hidden_size, output_size, n_layers=3):\n",
    "        super().__init__() # IMPORTANT\n",
    "        # TODO: figure out later how to create a variable nn.Sequential\n",
    "        # self.n_layers = n_layers\n",
    "        self.h = hidden_size\n",
    "\n",
    "        self.net = nn.Sequential(\n",
    "            nn.Linear(input_size, hidden_size),\n",
    "            nn.ReLU(),\n",
    "            nn.Linear(hidden_size, hidden_size),\n",
    "            nn.ReLU(),\n",
    "            nn.Linear(hidden_size,output_size)\n",
    "        )\n",
    "    \n",
    "    def forward(self, xb):\n",
    "        xb = self.net(xb)\n",
    "        output = xb.sigmoid()\n",
    "        return output\n"
   ]
  },
  {
   "cell_type": "code",
   "execution_count": null,
   "id": "9448a932",
   "metadata": {},
   "outputs": [],
   "source": [
    "# initialize weights\n",
    "model = MLP(input_size = 2, hidden_size = 16, output_size = 3)"
   ]
  },
  {
   "cell_type": "code",
   "execution_count": null,
   "id": "281e5535",
   "metadata": {},
   "outputs": [],
   "source": [
    "X_batch, y_batch = next(iter(train_loader))\n",
    "probs = model(X_batch[0])\n",
    "probs"
   ]
  },
  {
   "cell_type": "code",
   "execution_count": null,
   "id": "5e481ad5",
   "metadata": {},
   "outputs": [],
   "source": [
    "pred = torch.argmax(probs)\n",
    "pred.item()"
   ]
  },
  {
   "cell_type": "code",
   "execution_count": null,
   "id": "9d9b5df4",
   "metadata": {},
   "outputs": [],
   "source": [
    "target = y_batch[0]\n",
    "target.item()"
   ]
  },
  {
   "cell_type": "code",
   "execution_count": null,
   "id": "5c8aa283",
   "metadata": {},
   "outputs": [],
   "source": [
    "target == pred"
   ]
  },
  {
   "cell_type": "code",
   "execution_count": null,
   "id": "27f7bca3",
   "metadata": {},
   "outputs": [],
   "source": [
    "probs = model(X_batch)\n",
    "probs.shape"
   ]
  },
  {
   "cell_type": "code",
   "execution_count": null,
   "id": "f395fd5d",
   "metadata": {},
   "outputs": [],
   "source": [
    "preds = torch.argmax(probs, dim=-1) # now we need to specify dim\n",
    "preds.shape"
   ]
  },
  {
   "cell_type": "code",
   "execution_count": null,
   "id": "3c08776e",
   "metadata": {},
   "outputs": [],
   "source": [
    "targets = y_batch\n",
    "targets.shape"
   ]
  },
  {
   "cell_type": "code",
   "execution_count": null,
   "id": "3535c7c5",
   "metadata": {},
   "outputs": [],
   "source": [
    "((preds-targets)==0).float()"
   ]
  },
  {
   "cell_type": "code",
   "execution_count": null,
   "id": "3ee1fc6a",
   "metadata": {},
   "outputs": [],
   "source": [
    "((preds-targets)==0).float().mean().item()"
   ]
  },
  {
   "cell_type": "markdown",
   "id": "9206a21b",
   "metadata": {},
   "source": [
    "## Training Loop"
   ]
  },
  {
   "cell_type": "code",
   "execution_count": null,
   "id": "70185e4d",
   "metadata": {},
   "outputs": [],
   "source": [
    "optim = torch.optim.AdamW(model.parameters(), lr=0.01)"
   ]
  },
  {
   "cell_type": "code",
   "execution_count": null,
   "id": "24426fc0",
   "metadata": {},
   "outputs": [],
   "source": [
    "def train_epoch(model, train_loader, optim):\n",
    "    # set model to train\n",
    "    model.train()\n",
    "\n",
    "    for idx, (xb, yb) in enumerate(train_loader):\n",
    "        # forward pass\n",
    "        probs = model(xb)\n",
    "        \n",
    "        # cross-entropy loss \n",
    "        loss = F.cross_entropy(probs, yb)\n",
    "\n",
    "        # accuracy\n",
    "        preds = torch.argmax(probs, dim=-1)\n",
    "        acc = ((preds-targets)==0).float().mean().item()\n",
    "\n",
    "        # clear old gradient from previous backprop\n",
    "        optim.zero_grad()\n",
    "\n",
    "        # compute new gradient and backprop\n",
    "        loss.backward()\n",
    "\n",
    "        # update parameter step\n",
    "        optim.step()\n",
    "\n",
    "    # set model back to eval in case \n",
    "    # other code wants to do that by default\n",
    "    model.eval()\n",
    "\n",
    "    return loss.item(), acc\n",
    "    "
   ]
  },
  {
   "cell_type": "code",
   "execution_count": null,
   "id": "fb3f0596",
   "metadata": {},
   "outputs": [],
   "source": [
    "train_epoch(model=model, train_loader=train_loader, optim=optim)"
   ]
  },
  {
   "cell_type": "markdown",
   "id": "568f51d4",
   "metadata": {},
   "source": [
    "## Testing Loop"
   ]
  },
  {
   "cell_type": "code",
   "execution_count": null,
   "id": "240b028e",
   "metadata": {},
   "outputs": [],
   "source": [
    "def test_epoch(model, test_loader):\n",
    "    \n",
    "    # no gradient calculations\n",
    "    with torch.no_grad():\n",
    "        for idx, (xb, yb) in enumerate(test_loader):\n",
    "            # model output\n",
    "            probs = model(xb)\n",
    "\n",
    "            # loss\n",
    "            loss = F.cross_entropy(probs, yb)\n",
    "\n",
    "            # accuracy\n",
    "            preds = torch.argmax(probs, dim=-1)\n",
    "            acc = ((preds-targets)==0).float().mean().item()\n",
    "    \n",
    "    return loss.item(), acc"
   ]
  },
  {
   "cell_type": "code",
   "execution_count": null,
   "id": "ec433ab5",
   "metadata": {},
   "outputs": [],
   "source": [
    "test_epoch(model=model, test_loader=test_loader)"
   ]
  },
  {
   "cell_type": "markdown",
   "id": "e097a3ae",
   "metadata": {},
   "source": [
    "## Training and Testing Loop"
   ]
  },
  {
   "cell_type": "code",
   "execution_count": null,
   "id": "220d6443",
   "metadata": {},
   "outputs": [],
   "source": [
    "def train_test(model, train_loader, test_loader, optim, epochs=100, verbose=False):\n",
    "    for e in range(epochs):\n",
    "        train_loss, train_acc = train_epoch(model, train_loader, optim)\n",
    "        test_loss, test_acc = test_epoch(model, test_loader)\n",
    "\n",
    "        if verbose:\n",
    "            if e % 10 == 0:\n",
    "                print(f\"[Epoch {e}] Train/Test Loss: {train_loss:.2f} / {test_loss:.2f} | Train/Test Acc: {train_acc*100:.1f}% / {test_acc*100:.1f}%\")\n"
   ]
  },
  {
   "cell_type": "code",
   "execution_count": null,
   "id": "a5ab652a",
   "metadata": {},
   "outputs": [],
   "source": [
    "train_test(model, train_loader, test_loader, optim, verbose=True)"
   ]
  }
 ],
 "metadata": {
  "kernelspec": {
   "display_name": "learn-ml",
   "language": "python",
   "name": "python3"
  },
  "language_info": {
   "codemirror_mode": {
    "name": "ipython",
    "version": 3
   },
   "file_extension": ".py",
   "mimetype": "text/x-python",
   "name": "python",
   "nbconvert_exporter": "python",
   "pygments_lexer": "ipython3",
   "version": "3.13.7"
  }
 },
 "nbformat": 4,
 "nbformat_minor": 5
}
