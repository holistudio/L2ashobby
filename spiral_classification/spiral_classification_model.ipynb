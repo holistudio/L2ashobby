{
 "cells": [
  {
   "cell_type": "markdown",
   "id": "e3e29e17",
   "metadata": {},
   "source": [
    "# Spiral classification\n",
    "\n",
    "Given the x-y coordinates of 2D points, classify them into one of three possible spiral branches that they belong to.\n",
    "\n",
    "Objectives:\n",
    " - Build and train a PyTorch MLP model from scratch to classify the points to a high accuracy\n",
    " - Visualize how the points are transformed akin to: https://youtu.be/EyKiYVwrdjE?si=JiAKShLumRxbFWXA&t=1002"
   ]
  },
  {
   "cell_type": "code",
   "execution_count": 1,
   "id": "eb66742e",
   "metadata": {},
   "outputs": [],
   "source": [
    "import torch\n",
    "from torch import nn, optim"
   ]
  },
  {
   "cell_type": "code",
   "execution_count": 2,
   "id": "6c62aa94",
   "metadata": {},
   "outputs": [],
   "source": [
    "device = torch.device(\"cuda:0\" if torch.cuda.is_available() else \"cpu\")"
   ]
  },
  {
   "cell_type": "code",
   "execution_count": 3,
   "id": "aeff9c4d",
   "metadata": {},
   "outputs": [
    {
     "data": {
      "text/plain": [
       "device(type='cuda', index=0)"
      ]
     },
     "execution_count": 3,
     "metadata": {},
     "output_type": "execute_result"
    }
   ],
   "source": [
    "device"
   ]
  },
  {
   "cell_type": "markdown",
   "id": "9735ad23",
   "metadata": {},
   "source": [
    "## Create data"
   ]
  },
  {
   "cell_type": "code",
   "execution_count": 4,
   "id": "e77375d1",
   "metadata": {},
   "outputs": [],
   "source": [
    "seed = 12345\n",
    "torch.manual_seed(seed)\n",
    "N = 1000  # num_samples_per_class\n",
    "K = 3     # num_classes"
   ]
  },
  {
   "cell_type": "code",
   "execution_count": 6,
   "id": "d718e7ee",
   "metadata": {},
   "outputs": [],
   "source": [
    "# Generate spirals\n",
    "\n",
    "t = torch.linspace(0, 1, N)\n",
    "a = 0.8 * t + 0.2  # amplitude 0.2 → 1.0\n",
    "X = list()\n",
    "y = list()\n",
    "for k in range(K):\n",
    "    θ = (2 * t + k) * 2 * torch.pi / K + 0.2 * torch.randn(N)\n",
    "    X.append(torch.stack((a * θ.sin(), a * θ.cos()), dim=1))\n",
    "    y.append(torch.zeros(N, dtype=torch.long).fill_(k))\n",
    "X = torch.cat(X)\n",
    "y = torch.cat(y)"
   ]
  },
  {
   "cell_type": "code",
   "execution_count": 7,
   "id": "d20fe6c4",
   "metadata": {},
   "outputs": [
    {
     "data": {
      "text/plain": [
       "(torch.Size([3000, 2]), torch.Size([3000]))"
      ]
     },
     "execution_count": 7,
     "metadata": {},
     "output_type": "execute_result"
    }
   ],
   "source": [
    "X.shape, y.shape"
   ]
  }
 ],
 "metadata": {
  "kernelspec": {
   "display_name": "learn-ml",
   "language": "python",
   "name": "python3"
  },
  "language_info": {
   "codemirror_mode": {
    "name": "ipython",
    "version": 3
   },
   "file_extension": ".py",
   "mimetype": "text/x-python",
   "name": "python",
   "nbconvert_exporter": "python",
   "pygments_lexer": "ipython3",
   "version": "3.13.7"
  }
 },
 "nbformat": 4,
 "nbformat_minor": 5
}
