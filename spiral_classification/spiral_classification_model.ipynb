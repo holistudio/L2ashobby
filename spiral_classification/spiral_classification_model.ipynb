{
 "cells": [
  {
   "cell_type": "markdown",
   "id": "e3e29e17",
   "metadata": {},
   "source": [
    "# Spiral classification\n",
    "\n",
    "Given the x-y coordinates of 2D points, classify them into one of five possible spiral branches that they belong to.\n",
    "\n",
    "Objectives:\n",
    " - Build and train a PyTorch MLP model from scratch to classify the points to a high accuracy\n",
    " - Visualize how the points are transformed akin to: https://youtu.be/EyKiYVwrdjE?si=JiAKShLumRxbFWXA&t=1002"
   ]
  },
  {
   "cell_type": "code",
   "execution_count": null,
   "id": "eb66742e",
   "metadata": {},
   "outputs": [],
   "source": []
  },
  {
   "cell_type": "code",
   "execution_count": null,
   "id": "6c62aa94",
   "metadata": {},
   "outputs": [],
   "source": []
  },
  {
   "cell_type": "code",
   "execution_count": null,
   "id": "aeff9c4d",
   "metadata": {},
   "outputs": [],
   "source": []
  }
 ],
 "metadata": {
  "kernelspec": {
   "display_name": "learn-ml",
   "language": "python",
   "name": "python3"
  },
  "language_info": {
   "name": "python",
   "version": "3.13.7"
  }
 },
 "nbformat": 4,
 "nbformat_minor": 5
}
