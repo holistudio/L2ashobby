{
 "cells": [
  {
   "cell_type": "markdown",
   "id": "8284154f",
   "metadata": {},
   "source": [
    "# epsilon decay function"
   ]
  },
  {
   "cell_type": "code",
   "execution_count": null,
   "id": "30f641be",
   "metadata": {},
   "outputs": [],
   "source": [
    "import math\n",
    "import matplotlib.pyplot as plt"
   ]
  },
  {
   "cell_type": "code",
   "execution_count": null,
   "id": "38081149",
   "metadata": {},
   "outputs": [],
   "source": [
    "epsilon = 1.0\n",
    "min_epsilon=0.1\n",
    "max_epsilon=1.0\n",
    "decay_rate=0.01"
   ]
  },
  {
   "cell_type": "code",
   "execution_count": null,
   "id": "c830e12e",
   "metadata": {},
   "outputs": [],
   "source": [
    "def eps_decay(step):\n",
    "    epsilon = min_epsilon + (max_epsilon - min_epsilon) * math.exp(-decay_rate * step)\n",
    "    return epsilon"
   ]
  },
  {
   "cell_type": "code",
   "execution_count": null,
   "id": "d8f774f8",
   "metadata": {},
   "outputs": [],
   "source": [
    "steps = range(1000)\n",
    "eps = [eps_decay(x) for x in steps]\n",
    "\n",
    "plt.scatter(steps, eps)"
   ]
  }
 ],
 "metadata": {
  "kernelspec": {
   "display_name": "learn-ml",
   "language": "python",
   "name": "python3"
  },
  "language_info": {
   "codemirror_mode": {
    "name": "ipython",
    "version": 3
   },
   "file_extension": ".py",
   "mimetype": "text/x-python",
   "name": "python",
   "nbconvert_exporter": "python",
   "pygments_lexer": "ipython3",
   "version": "3.13.7"
  }
 },
 "nbformat": 4,
 "nbformat_minor": 5
}
