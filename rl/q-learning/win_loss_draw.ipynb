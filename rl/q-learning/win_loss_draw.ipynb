{
 "cells": [
  {
   "cell_type": "code",
   "execution_count": null,
   "id": "431aef0b",
   "metadata": {},
   "outputs": [],
   "source": [
    "import math\n",
    "import matplotlib.pyplot as plt\n",
    "import pandas as pd"
   ]
  },
  {
   "cell_type": "code",
   "execution_count": null,
   "id": "e537b0a4",
   "metadata": {},
   "outputs": [],
   "source": [
    "train_results = pd.read_csv('train_win-loss-draw.csv')\n",
    "test_results  = pd.read_csv('test_win-loss-draw.csv')"
   ]
  },
  {
   "cell_type": "code",
   "execution_count": null,
   "id": "7e7591e0",
   "metadata": {},
   "outputs": [],
   "source": [
    "train_results.head()"
   ]
  },
  {
   "cell_type": "code",
   "execution_count": null,
   "id": "ab2aec10",
   "metadata": {},
   "outputs": [],
   "source": [
    "test_results.head()"
   ]
  },
  {
   "cell_type": "code",
   "execution_count": null,
   "id": "1305c8d3",
   "metadata": {},
   "outputs": [],
   "source": [
    "eps = train_results['ep']\n",
    "wins = [train_results['P1-W'], train_results['P2-W']]\n",
    "losses = [train_results['P1-L'], train_results['P2-L']]\n",
    "draws = [train_results['P1-D'], train_results['P2-D']]\n",
    "\n",
    "fig, axs = plt.subplots(1,2, figsize=(10,4))\n",
    "\n",
    "for i,ax in enumerate(axs):\n",
    "    axs[i].plot(eps,wins[i],label=f'P{i+1}-wins')\n",
    "    axs[i].plot(eps,losses[i],label=f'P{i+1}-losses')\n",
    "    axs[i].plot(eps,draws[i],label=f'P{i+1}-draws')\n",
    "    axs[i].legend()\n",
    "    axs[i].set_xlabel('episodes')\n",
    "plt.tight_layout()\n",
    "plt.show()"
   ]
  },
  {
   "cell_type": "code",
   "execution_count": null,
   "id": "c6f23d0a",
   "metadata": {},
   "outputs": [],
   "source": []
  }
 ],
 "metadata": {
  "kernelspec": {
   "display_name": "learn-ml",
   "language": "python",
   "name": "python3"
  },
  "language_info": {
   "codemirror_mode": {
    "name": "ipython",
    "version": 3
   },
   "file_extension": ".py",
   "mimetype": "text/x-python",
   "name": "python",
   "nbconvert_exporter": "python",
   "pygments_lexer": "ipython3",
   "version": "3.13.7"
  }
 },
 "nbformat": 4,
 "nbformat_minor": 5
}
