{
 "cells": [
  {
   "cell_type": "code",
   "execution_count": null,
   "id": "431aef0b",
   "metadata": {},
   "outputs": [],
   "source": [
    "import math\n",
    "import matplotlib.pyplot as plt\n",
    "import pandas as pd"
   ]
  },
  {
   "cell_type": "code",
   "execution_count": null,
   "id": "e537b0a4",
   "metadata": {},
   "outputs": [],
   "source": [
    "train_results = pd.read_csv('train_win-loss-draw.csv')\n",
    "test_results  = pd.read_csv('test_win-loss-draw.csv')"
   ]
  },
  {
   "cell_type": "code",
   "execution_count": null,
   "id": "7e7591e0",
   "metadata": {},
   "outputs": [],
   "source": [
    "train_results.head()"
   ]
  },
  {
   "cell_type": "code",
   "execution_count": null,
   "id": "ab2aec10",
   "metadata": {},
   "outputs": [],
   "source": [
    "test_results.head()"
   ]
  },
  {
   "cell_type": "code",
   "execution_count": null,
   "id": "1305c8d3",
   "metadata": {},
   "outputs": [],
   "source": [
    "eps = train_results['ep']\n",
    "wins = [train_results['P1-W'], train_results['P2-W']]\n",
    "losses = [train_results['P1-L'], train_results['P2-L']]\n",
    "draws = [train_results['P1-D'], train_results['P2-D']]\n",
    "\n",
    "fig, axs = plt.subplots(1,2, figsize=(10,4))\n",
    "\n",
    "for i,ax in enumerate(axs):\n",
    "    axs[i].plot(eps,wins[i],label=f'P{i+1}-wins')\n",
    "    axs[i].plot(eps,losses[i],label=f'P{i+1}-losses')\n",
    "    axs[i].plot(eps,draws[i],label=f'P{i+1}-draws')\n",
    "    axs[i].legend()\n",
    "    axs[i].set_xlabel('episodes')\n",
    "    axs[i].set_xlabel('episodes')\n",
    "    axs[i].set_title(f'Player {i+1}')\n",
    "    \n",
    "plt.tight_layout()\n",
    "plt.show()"
   ]
  },
  {
   "cell_type": "code",
   "execution_count": null,
   "id": "c6f23d0a",
   "metadata": {},
   "outputs": [],
   "source": [
    "eps = train_results['ep']\n",
    "wins = [train_results['P1-W'], train_results['P2-W']]\n",
    "losses = [train_results['P1-L'], train_results['P2-L']]\n",
    "draws = [train_results['P1-D'], train_results['P2-D']]\n",
    "\n",
    "fig, axs = plt.subplots(1,2, figsize=(10,4))\n",
    "\n",
    "for i,ax in enumerate(axs):\n",
    "    totals = wins[i] + losses[i] + draws[i]\n",
    "    axs[i].plot(eps,wins[i]*100/totals,label='% wins',c='green')\n",
    "    axs[i].plot(eps,losses[i]*100/totals,label='% losses',c='red')\n",
    "    axs[i].plot(eps,draws[i]*100/totals,label='% draws',c='orange')\n",
    "    axs[i].set_xlabel('episodes')\n",
    "    axs[i].set_title(f'Player {i+1}')\n",
    "\n",
    "\n",
    "\n",
    "# Legend outside (right side)\n",
    "axs[1].legend(\n",
    "    loc=\"center left\",          # place legend to the left of the anchor\n",
    "    bbox_to_anchor=(1.05, 0.5)  # (x, y) relative to axes — pushes it to the right\n",
    ")\n",
    "plt.tight_layout()\n",
    "plt.show()"
   ]
  },
  {
   "cell_type": "code",
   "execution_count": null,
   "id": "7563febd",
   "metadata": {},
   "outputs": [],
   "source": [
    "eps = train_results['ep']\n",
    "wins = [train_results['P1-W'], train_results['P2-W']]\n",
    "losses = [train_results['P1-L'], train_results['P2-L']]\n",
    "draws = [train_results['P1-D'], train_results['P2-D']]\n",
    "\n",
    "fig, axs = plt.subplots(1, 2, figsize=(10, 4))\n",
    "\n",
    "for i, ax in enumerate(axs):\n",
    "    totals = wins[i] + losses[i] + draws[i]\n",
    "\n",
    "    # Normalize so they sum to 100%\n",
    "    w = wins[i] * 100 / totals\n",
    "    l = losses[i] * 100 / totals\n",
    "    d = draws[i] * 100 / totals\n",
    "\n",
    "    # Stacked area plot\n",
    "    ax.stackplot(\n",
    "        eps, w, d, l, \n",
    "        labels=[\"% wins\", \"% draws\", \"% losses\"],\n",
    "        colors=[\"green\", \"yellow\", \"red\"],  # pick nice colors\n",
    "        alpha=0.7\n",
    "    )\n",
    "\n",
    "    ax.set_xlabel(\"Episodes\")\n",
    "    ax.set_ylabel(\"Percentage (%)\")\n",
    "    ax.set_ylim(0, 100)  # since they always sum to 100%\n",
    "    ax.set_title(f\"Player {i+1}\")\n",
    "\n",
    "# Legend outside right of second subplot\n",
    "axs[1].legend(\n",
    "    loc=\"center left\",\n",
    "    bbox_to_anchor=(1.05, 0.5)\n",
    ")\n",
    "\n",
    "plt.tight_layout()\n",
    "plt.show()\n"
   ]
  },
  {
   "cell_type": "code",
   "execution_count": null,
   "id": "4cf14293",
   "metadata": {},
   "outputs": [],
   "source": [
    "eps = test_results['ep']\n",
    "wins = [test_results['P1-W'], test_results['P2-W']]\n",
    "losses = [test_results['P1-L'], test_results['P2-L']]\n",
    "draws = [test_results['P1-D'], test_results['P2-D']]\n",
    "\n",
    "fig, axs = plt.subplots(1, 2, figsize=(10, 4))\n",
    "\n",
    "for i, ax in enumerate(axs):\n",
    "    totals = wins[i] + losses[i] + draws[i]\n",
    "\n",
    "    # Normalize so they sum to 100%\n",
    "    w = wins[i] * 100 / totals\n",
    "    l = losses[i] * 100 / totals\n",
    "    d = draws[i] * 100 / totals\n",
    "\n",
    "    # Stacked area plot\n",
    "    ax.stackplot(\n",
    "        eps, w, d, l, \n",
    "        labels=[\"% wins\", \"% draws\", \"% losses\"],\n",
    "        colors=[\"green\", \"yellow\", \"red\"],  # pick nice colors\n",
    "        alpha=0.7\n",
    "    )\n",
    "\n",
    "    ax.set_xlabel(\"Episodes\")\n",
    "    ax.set_ylabel(\"Percentage (%)\")\n",
    "    ax.set_ylim(0, 100)  # since they always sum to 100%\n",
    "    ax.set_title(f\"Player {i+1}\")\n",
    "\n",
    "# Legend outside right of second subplot\n",
    "axs[1].legend(\n",
    "    loc=\"center left\",\n",
    "    bbox_to_anchor=(1.05, 0.5)\n",
    ")\n",
    "\n",
    "plt.tight_layout()\n",
    "plt.show()\n"
   ]
  },
  {
   "cell_type": "code",
   "execution_count": null,
   "id": "c2f3a36a",
   "metadata": {},
   "outputs": [],
   "source": []
  }
 ],
 "metadata": {
  "kernelspec": {
   "display_name": "learn-ml",
   "language": "python",
   "name": "python3"
  },
  "language_info": {
   "codemirror_mode": {
    "name": "ipython",
    "version": 3
   },
   "file_extension": ".py",
   "mimetype": "text/x-python",
   "name": "python",
   "nbconvert_exporter": "python",
   "pygments_lexer": "ipython3",
   "version": "3.13.7"
  }
 },
 "nbformat": 4,
 "nbformat_minor": 5
}
